{
 "cells": [
  {
   "cell_type": "code",
   "execution_count": 6,
   "metadata": {},
   "outputs": [],
   "source": [
    "#Q1\n",
    "sesame <- read.csv(\"https://tinyurl.com/wlgl63b\") #dataset\n",
    "library(dplyr) #libraries\n",
    "library(arm)\n"
   ]
  },
  {
   "cell_type": "code",
   "execution_count": 7,
   "metadata": {},
   "outputs": [
    {
     "data": {
      "text/plain": [
       "   post.test        pre.test       treatment  \n",
       " Min.   : 94.0   Min.   : 78.4   Min.   :0.0  \n",
       " 1st Qu.:110.7   1st Qu.:104.2   1st Qu.:0.0  \n",
       " Median :113.9   Median :107.3   Median :0.5  \n",
       " Mean   :112.2   Mean   :105.8   Mean   :0.5  \n",
       " 3rd Qu.:115.8   3rd Qu.:110.8   3rd Qu.:1.0  \n",
       " Max.   :122.0   Max.   :119.8   Max.   :1.0  "
      ]
     },
     "metadata": {},
     "output_type": "display_data"
    },
    {
     "name": "stdout",
     "output_type": "stream",
     "text": [
      "'data.frame':\t42 obs. of  3 variables:\n",
      " $ post.test: num  116 117 107 105 114 ...\n",
      " $ pre.test : num  105.9 100.8 91.7 97.5 106.5 ...\n",
      " $ treatment: int  1 1 1 1 1 1 1 1 1 1 ...\n"
     ]
    }
   ],
   "source": [
    "summary(sesame)\n",
    "str(sesame)\n",
    "sesame.df <- tbl_df(sesame)\n",
    "sesame1 <- sesame\n"
   ]
  },
  {
   "cell_type": "code",
   "execution_count": 8,
   "metadata": {},
   "outputs": [
    {
     "data": {
      "text/html": [
       "<table>\n",
       "<thead><tr><th scope=col>post.test</th><th scope=col>pre.test</th><th scope=col>treatment</th></tr></thead>\n",
       "<tbody>\n",
       "\t<tr><td>116.2</td><td>105.9</td><td>1    </td></tr>\n",
       "\t<tr><td>116.9</td><td>100.8</td><td>1    </td></tr>\n",
       "\t<tr><td>106.9</td><td> 91.7</td><td>1    </td></tr>\n",
       "\t<tr><td>104.6</td><td> 97.5</td><td>1    </td></tr>\n",
       "\t<tr><td>114.2</td><td>106.5</td><td>1    </td></tr>\n",
       "\t<tr><td>113.6</td><td>107.4</td><td>1    </td></tr>\n",
       "</tbody>\n",
       "</table>\n"
      ],
      "text/latex": [
       "\\begin{tabular}{r|lll}\n",
       " post.test & pre.test & treatment\\\\\n",
       "\\hline\n",
       "\t 116.2 & 105.9 & 1    \\\\\n",
       "\t 116.9 & 100.8 & 1    \\\\\n",
       "\t 106.9 &  91.7 & 1    \\\\\n",
       "\t 104.6 &  97.5 & 1    \\\\\n",
       "\t 114.2 & 106.5 & 1    \\\\\n",
       "\t 113.6 & 107.4 & 1    \\\\\n",
       "\\end{tabular}\n"
      ],
      "text/markdown": [
       "\n",
       "| post.test | pre.test | treatment |\n",
       "|---|---|---|\n",
       "| 116.2 | 105.9 | 1     |\n",
       "| 116.9 | 100.8 | 1     |\n",
       "| 106.9 |  91.7 | 1     |\n",
       "| 104.6 |  97.5 | 1     |\n",
       "| 114.2 | 106.5 | 1     |\n",
       "| 113.6 | 107.4 | 1     |\n",
       "\n"
      ],
      "text/plain": [
       "  post.test pre.test treatment\n",
       "1 116.2     105.9    1        \n",
       "2 116.9     100.8    1        \n",
       "3 106.9      91.7    1        \n",
       "4 104.6      97.5    1        \n",
       "5 114.2     106.5    1        \n",
       "6 113.6     107.4    1        "
      ]
     },
     "metadata": {},
     "output_type": "display_data"
    },
    {
     "data": {
      "text/plain": [
       "   post.test        pre.test       treatment\n",
       " Min.   :104.6   Min.   : 91.7   Min.   :1  \n",
       " 1st Qu.:111.5   1st Qu.:104.6   1st Qu.:1  \n",
       " Median :114.8   Median :107.2   Median :1  \n",
       " Mean   :114.1   Mean   :107.3   Mean   :1  \n",
       " 3rd Qu.:116.2   3rd Qu.:110.6   3rd Qu.:1  \n",
       " Max.   :122.0   Max.   :119.8   Max.   :1  "
      ]
     },
     "metadata": {},
     "output_type": "display_data"
    }
   ],
   "source": [
    "head(sesame)\n",
    "sesame.treat <- filter(sesame, sesame$treatment==1) #creating different datasets for training and test data\n",
    "sesame1.treat <- filter(sesame, sesame$treatment==1)\n",
    "summary(sesame.treat)\n",
    "sesame.untreat <- filter(sesame, sesame$treatment ==0)\n",
    "sesame1.untreat <- filter(sesame, sesame$treatment==1)\n"
   ]
  },
  {
   "cell_type": "code",
   "execution_count": 9,
   "metadata": {},
   "outputs": [
    {
     "data": {
      "image/png": "[encoded data removed]",
      "text/plain": [
       "plot without title"
      ]
     },
     "metadata": {},
     "output_type": "display_data"
    }
   ],
   "source": [
    "sesame.lm1 <- lm(sesame.treat$post.test~sesame.treat$pre.test, sesame) #regression on required parameters\n",
    "sesame.lm2 <- lm(sesame.untreat$post.test~sesame.untreat$pre.test,sesame)\n",
    "plot(sesame$pre.test,sesame$post.test,xlim = c(0,120),ylim = c(0,120), pch=ifelse(sesame$treatment==1,1,16)) #plot lines, pch denotes the color difference\n",
    "abline(sesame.lm1) #both the regression lines, one is dashed which is the untreated group\n",
    "abline(sesame.lm2, lty = 'dashed') "
   ]
  },
  {
   "cell_type": "code",
   "execution_count": 10,
   "metadata": {},
   "outputs": [
    {
     "data": {
      "text/html": [
       "<table>\n",
       "<thead><tr><th scope=col>post.test</th><th scope=col>pre.test</th><th scope=col>treatment</th></tr></thead>\n",
       "<tbody>\n",
       "\t<tr><td> 20.0</td><td>105.9</td><td>1    </td></tr>\n",
       "\t<tr><td>116.9</td><td>100.8</td><td>1    </td></tr>\n",
       "\t<tr><td>106.9</td><td> 91.7</td><td>1    </td></tr>\n",
       "\t<tr><td>104.6</td><td> 97.5</td><td>1    </td></tr>\n",
       "\t<tr><td>114.2</td><td>106.5</td><td>1    </td></tr>\n",
       "\t<tr><td>113.6</td><td>107.4</td><td>1    </td></tr>\n",
       "\t<tr><td>116.6</td><td>111.4</td><td>1    </td></tr>\n",
       "\t<tr><td>114.8</td><td>110.0</td><td>1    </td></tr>\n",
       "\t<tr><td>114.9</td><td>106.9</td><td>1    </td></tr>\n",
       "\t<tr><td>111.0</td><td>106.7</td><td>1    </td></tr>\n",
       "\t<tr><td>113.9</td><td>104.1</td><td>1    </td></tr>\n",
       "\t<tr><td>115.6</td><td>109.7</td><td>1    </td></tr>\n",
       "\t<tr><td>116.2</td><td>110.6</td><td>1    </td></tr>\n",
       "\t<tr><td>119.6</td><td>115.2</td><td>1    </td></tr>\n",
       "\t<tr><td>109.6</td><td>101.9</td><td>1    </td></tr>\n",
       "\t<tr><td>122.0</td><td>119.8</td><td>1    </td></tr>\n",
       "\t<tr><td>109.7</td><td>108.8</td><td>1    </td></tr>\n",
       "\t<tr><td>112.4</td><td>104.6</td><td>1    </td></tr>\n",
       "\t<tr><td>115.5</td><td>111.1</td><td>1    </td></tr>\n",
       "\t<tr><td>119.7</td><td>115.5</td><td>1    </td></tr>\n",
       "\t<tr><td>111.5</td><td>107.2</td><td>1    </td></tr>\n",
       "</tbody>\n",
       "</table>\n"
      ],
      "text/latex": [
       "\\begin{tabular}{r|lll}\n",
       " post.test & pre.test & treatment\\\\\n",
       "\\hline\n",
       "\t  20.0 & 105.9 & 1    \\\\\n",
       "\t 116.9 & 100.8 & 1    \\\\\n",
       "\t 106.9 &  91.7 & 1    \\\\\n",
       "\t 104.6 &  97.5 & 1    \\\\\n",
       "\t 114.2 & 106.5 & 1    \\\\\n",
       "\t 113.6 & 107.4 & 1    \\\\\n",
       "\t 116.6 & 111.4 & 1    \\\\\n",
       "\t 114.8 & 110.0 & 1    \\\\\n",
       "\t 114.9 & 106.9 & 1    \\\\\n",
       "\t 111.0 & 106.7 & 1    \\\\\n",
       "\t 113.9 & 104.1 & 1    \\\\\n",
       "\t 115.6 & 109.7 & 1    \\\\\n",
       "\t 116.2 & 110.6 & 1    \\\\\n",
       "\t 119.6 & 115.2 & 1    \\\\\n",
       "\t 109.6 & 101.9 & 1    \\\\\n",
       "\t 122.0 & 119.8 & 1    \\\\\n",
       "\t 109.7 & 108.8 & 1    \\\\\n",
       "\t 112.4 & 104.6 & 1    \\\\\n",
       "\t 115.5 & 111.1 & 1    \\\\\n",
       "\t 119.7 & 115.5 & 1    \\\\\n",
       "\t 111.5 & 107.2 & 1    \\\\\n",
       "\\end{tabular}\n"
      ],
      "text/markdown": [
       "\n",
       "| post.test | pre.test | treatment |\n",
       "|---|---|---|\n",
       "|  20.0 | 105.9 | 1     |\n",
       "| 116.9 | 100.8 | 1     |\n",
       "| 106.9 |  91.7 | 1     |\n",
       "| 104.6 |  97.5 | 1     |\n",
       "| 114.2 | 106.5 | 1     |\n",
       "| 113.6 | 107.4 | 1     |\n",
       "| 116.6 | 111.4 | 1     |\n",
       "| 114.8 | 110.0 | 1     |\n",
       "| 114.9 | 106.9 | 1     |\n",
       "| 111.0 | 106.7 | 1     |\n",
       "| 113.9 | 104.1 | 1     |\n",
       "| 115.6 | 109.7 | 1     |\n",
       "| 116.2 | 110.6 | 1     |\n",
       "| 119.6 | 115.2 | 1     |\n",
       "| 109.6 | 101.9 | 1     |\n",
       "| 122.0 | 119.8 | 1     |\n",
       "| 109.7 | 108.8 | 1     |\n",
       "| 112.4 | 104.6 | 1     |\n",
       "| 115.5 | 111.1 | 1     |\n",
       "| 119.7 | 115.5 | 1     |\n",
       "| 111.5 | 107.2 | 1     |\n",
       "\n"
      ],
      "text/plain": [
       "   post.test pre.test treatment\n",
       "1   20.0     105.9    1        \n",
       "2  116.9     100.8    1        \n",
       "3  106.9      91.7    1        \n",
       "4  104.6      97.5    1        \n",
       "5  114.2     106.5    1        \n",
       "6  113.6     107.4    1        \n",
       "7  116.6     111.4    1        \n",
       "8  114.8     110.0    1        \n",
       "9  114.9     106.9    1        \n",
       "10 111.0     106.7    1        \n",
       "11 113.9     104.1    1        \n",
       "12 115.6     109.7    1        \n",
       "13 116.2     110.6    1        \n",
       "14 119.6     115.2    1        \n",
       "15 109.6     101.9    1        \n",
       "16 122.0     119.8    1        \n",
       "17 109.7     108.8    1        \n",
       "18 112.4     104.6    1        \n",
       "19 115.5     111.1    1        \n",
       "20 119.7     115.5    1        \n",
       "21 111.5     107.2    1        "
      ]
     },
     "metadata": {},
     "output_type": "display_data"
    },
    {
     "data": {
      "image/png": "[encoded data removed]",
      "text/plain": [
       "plot without title"
      ]
     },
     "metadata": {},
     "output_type": "display_data"
    }
   ],
   "source": [
    "sesame1.treat$post.test[1] = 20 #changing one of the observations\n",
    "sesame1.treat #same as last, but trendline is different\n",
    "sesame.lm3 <- lm(sesame1.treat$post.test~sesame1.treat$pre.test, sesame1)\n",
    "sesame.lm4 <- lm(sesame1.untreat$post.test~sesame1.untreat$pre.test,sesame1)\n",
    "plot(sesame1.treat$pre.test,sesame1.treat$post.test,xlim = c(0,120),ylim = c(0,120), col = ifelse(sesame1.treat$post.test==20,\"blue\", \"black\"),pch=ifelse(sesame1$treatment==1,1,16))\n",
    "abline(sesame.lm3)\n",
    "abline(sesame.lm4, lty = 'dashed')\n"
   ]
  },
  {
   "cell_type": "code",
   "execution_count": 11,
   "metadata": {},
   "outputs": [
    {
     "data": {
      "image/png": "[encoded data removed]",
      "text/plain": [
       "Plot with title \"treatment effect in grade 4\""
      ]
     },
     "metadata": {},
     "output_type": "display_data"
    }
   ],
   "source": [
    "#code taken from gellman and hill et al reading\n",
    "library(arm)\n",
    "lm.4 <- lm(sesame$post.test ~ sesame$treatment + sesame$pre.test + sesame$treatment:sesame$pre.test)\n",
    "lm.4.sim <- sim(lm.4)\n",
    "plot (0, 0, xlim=range (sesame$pre.test), ylim=c(-5,10),\n",
    "xlab=\"pre-test\", ylab=\"treatment effect\",\n",
    "main=\"treatment effect in grade 4\")\n",
    "abline (0, 0, lwd=.5, lty=2)\n",
    "#this for loop, the coefficients are written down in part of beta to make the function take coefficient of curve, 20 iterations for different effects\n",
    "for (i in 1:20){\n",
    "curve(coef(lm.4.sim)[i,2] + coef(lm.4.sim)[i,4]*x, lwd=.5, col=\"gray\",\n",
    "add=TRUE)}\n",
    "curve (coef(lm.4)[2] + coef(lm.4)[4]*x, lwd=.5, add=TRUE)"
   ]
  },
  {
   "cell_type": "code",
   "execution_count": 77,
   "metadata": {},
   "outputs": [
    {
     "data": {
      "text/plain": [
       "\n",
       "Call:\n",
       "lm(formula = csoa ~ age + sex + target + I(as.numeric(tint != \n",
       "    \"no\")) + I(as.numeric(tint != \"no\") * age), data = tinting)\n",
       "\n",
       "Residuals:\n",
       "    Min      1Q  Median      3Q     Max \n",
       "-20.268 -10.518  -1.896   7.244  63.495 \n",
       "\n",
       "Coefficients:\n",
       "                                  Estimate Std. Error t value Pr(>|t|)    \n",
       "(Intercept)                       31.15440    3.43576   9.068 2.35e-16 ***\n",
       "age                                0.28633    0.06355   4.506 1.20e-05 ***\n",
       "sexm                               5.48114    2.18666   2.507   0.0131 *  \n",
       "targetlocon                        3.53675    2.05229   1.723   0.0866 .  \n",
       "I(as.numeric(tint != \"no\"))       -0.72172    4.45631  -0.162   0.8715    \n",
       "I(as.numeric(tint != \"no\") * age)  0.04237    0.08081   0.524   0.6007    \n",
       "---\n",
       "Signif. codes:  0 '***' 0.001 '**' 0.01 '*' 0.05 '.' 0.1 ' ' 1\n",
       "\n",
       "Residual standard error: 13.51 on 176 degrees of freedom\n",
       "Multiple R-squared:  0.3359,\tAdjusted R-squared:  0.317 \n",
       "F-statistic:  17.8 on 5 and 176 DF,  p-value: 2.905e-14\n"
      ]
     },
     "metadata": {},
     "output_type": "display_data"
    }
   ],
   "source": [
    "#Q2\n",
    "library(arm)\n",
    "tinting = read.csv(url(\"https://tinyurl.com/v4bq99k\")) #import data\n",
    "\n",
    "# regression equation\n",
    "lm1 <- lm(csoa ~ age + sex + target + I(as.numeric(tint != \"no\")) + I(as.numeric(tint!= \"no\")*age), data = tinting) \n",
    "summary(lm_tint)\n",
    "\n",
    "# 1000 simulations\n",
    "iterations <- 1000\n",
    "sim <- sim(lm1, n.sims = iterations)"
   ]
  },
  {
   "cell_type": "code",
   "execution_count": 82,
   "metadata": {},
   "outputs": [
    {
     "data": {
      "text/html": [
       "<table>\n",
       "<thead><tr><th></th><th scope=col>Mean of 2.5th percentile</th><th scope=col>Mean of 97.5th percentile</th></tr></thead>\n",
       "<tbody>\n",
       "\t<tr><th scope=row>20</th><td>36.20086</td><td>45.13339</td></tr>\n",
       "\t<tr><th scope=row>30</th><td>39.84933</td><td>47.91857</td></tr>\n",
       "\t<tr><th scope=row>40</th><td>43.23349</td><td>50.85474</td></tr>\n",
       "\t<tr><th scope=row>50</th><td>46.44225</td><td>54.19176</td></tr>\n",
       "\t<tr><th scope=row>60</th><td>49.38777</td><td>57.87876</td></tr>\n",
       "\t<tr><th scope=row>70</th><td>52.06950</td><td>61.63551</td></tr>\n",
       "\t<tr><th scope=row>80</th><td>54.56417</td><td>65.51562</td></tr>\n",
       "</tbody>\n",
       "</table>\n"
      ],
      "text/latex": [
       "\\begin{tabular}{r|ll}\n",
       "  & Mean of 2.5th percentile & Mean of 97.5th percentile\\\\\n",
       "\\hline\n",
       "\t20 & 36.20086 & 45.13339\\\\\n",
       "\t30 & 39.84933 & 47.91857\\\\\n",
       "\t40 & 43.23349 & 50.85474\\\\\n",
       "\t50 & 46.44225 & 54.19176\\\\\n",
       "\t60 & 49.38777 & 57.87876\\\\\n",
       "\t70 & 52.06950 & 61.63551\\\\\n",
       "\t80 & 54.56417 & 65.51562\\\\\n",
       "\\end{tabular}\n"
      ],
      "text/markdown": [
       "\n",
       "| <!--/--> | Mean of 2.5th percentile | Mean of 97.5th percentile |\n",
       "|---|---|---|\n",
       "| 20 | 36.20086 | 45.13339 |\n",
       "| 30 | 39.84933 | 47.91857 |\n",
       "| 40 | 43.23349 | 50.85474 |\n",
       "| 50 | 46.44225 | 54.19176 |\n",
       "| 60 | 49.38777 | 57.87876 |\n",
       "| 70 | 52.06950 | 61.63551 |\n",
       "| 80 | 54.56417 | 65.51562 |\n",
       "\n"
      ],
      "text/plain": [
       "   Mean of 2.5th percentile Mean of 97.5th percentile\n",
       "20 36.20086                 45.13339                 \n",
       "30 39.84933                 47.91857                 \n",
       "40 43.23349                 50.85474                 \n",
       "50 46.44225                 54.19176                 \n",
       "60 49.38777                 57.87876                 \n",
       "70 52.06950                 61.63551                 \n",
       "80 54.56417                 65.51562                 "
      ]
     },
     "metadata": {},
     "output_type": "display_data"
    }
   ],
   "source": [
    "#a\n",
    "# create empty matrix for future use, as well as a list of every age from 20-80 \n",
    "ages = c(20, 30, 40, 50, 60, 70, 80)\n",
    "simulated <- matrix(NA, nrow = iterations, length(ages))\n",
    "\n",
    "\n",
    "for (age in ages) {\n",
    "  xval <- c(1, age, 0, 1, 1, 1*age) #parameters for intercept, age, sex, hicon, tint!= no\n",
    "  for (i in 1:iterations) {\n",
    "    simulated[i, 1 + (age-min(ages))/10] <- sum(xval*sim@coef[i,]) \n",
    "  }\n",
    "}\n",
    "# table created with our required calculations\n",
    "confidence1 <- apply(simulated, 2, quantile, probs = c(0.025, 0.975)) #confidence int\n",
    "mean1 <- apply(simulated, 2, mean) #mean\n",
    "table1 <- t(data.frame(confidence1))\n",
    "#name of columns and rows\n",
    "colnames(table1) <- c(\"Mean of 2.5th percentile\", \"Mean of 97.5th percentile\")\n",
    "rownames(table1) <- ages\n",
    "table.mean\n"
   ]
  },
  {
   "cell_type": "code",
   "execution_count": 83,
   "metadata": {},
   "outputs": [
    {
     "data": {
      "image/png": "[encoded data removed]",
      "text/plain": [
       "Plot with title \"CSOA of females with hicon target and ages from 20-80\""
      ]
     },
     "metadata": {},
     "output_type": "display_data"
    }
   ],
   "source": [
    "#plotting the graph, x and y bounds set according to table findings\n",
    "plot(x = c(1:100), y = c(1:100), type = \"n\", \n",
    "xlim = c(20,80),\n",
    "ylim = c(-0,75), \n",
    "main = \"CSOA of females with hicon target and ages from 20-80\", xlab = \"Age\", \n",
    "ylab = \"CSOA\")\n",
    "#intervals created to see the difference of effect\n",
    "for (age in ages) {\n",
    "  segments(\n",
    "x0 = age,\n",
    "y0 = confidence1[1, ((age - min(ages))/10)+1],\n",
    "x1 = age,\n",
    "y1 = confidence1[2, ((age - min(ages))/10)+1],\n",
    "lwd = 2)\n",
    "}"
   ]
  },
  {
   "cell_type": "code",
   "execution_count": 84,
   "metadata": {},
   "outputs": [
    {
     "data": {
      "text/html": [
       "<table>\n",
       "<thead><tr><th></th><th scope=col>Mean of 2.5th percentile</th><th scope=col>Mean of 97.5th percentile</th></tr></thead>\n",
       "<tbody>\n",
       "\t<tr><th scope=row>20</th><td>-2.374104</td><td> 4.063196</td></tr>\n",
       "\t<tr><th scope=row>30</th><td>-3.561156</td><td> 6.094794</td></tr>\n",
       "\t<tr><th scope=row>40</th><td>-4.748208</td><td> 8.126392</td></tr>\n",
       "\t<tr><th scope=row>50</th><td>-5.935260</td><td>10.157990</td></tr>\n",
       "\t<tr><th scope=row>60</th><td>-7.122313</td><td>12.189588</td></tr>\n",
       "\t<tr><th scope=row>70</th><td>-8.309365</td><td>14.221186</td></tr>\n",
       "\t<tr><th scope=row>80</th><td>-9.496417</td><td>16.252784</td></tr>\n",
       "</tbody>\n",
       "</table>\n"
      ],
      "text/latex": [
       "\\begin{tabular}{r|ll}\n",
       "  & Mean of 2.5th percentile & Mean of 97.5th percentile\\\\\n",
       "\\hline\n",
       "\t20 & -2.374104 &  4.063196\\\\\n",
       "\t30 & -3.561156 &  6.094794\\\\\n",
       "\t40 & -4.748208 &  8.126392\\\\\n",
       "\t50 & -5.935260 & 10.157990\\\\\n",
       "\t60 & -7.122313 & 12.189588\\\\\n",
       "\t70 & -8.309365 & 14.221186\\\\\n",
       "\t80 & -9.496417 & 16.252784\\\\\n",
       "\\end{tabular}\n"
      ],
      "text/markdown": [
       "\n",
       "| <!--/--> | Mean of 2.5th percentile | Mean of 97.5th percentile |\n",
       "|---|---|---|\n",
       "| 20 | -2.374104 |  4.063196 |\n",
       "| 30 | -3.561156 |  6.094794 |\n",
       "| 40 | -4.748208 |  8.126392 |\n",
       "| 50 | -5.935260 | 10.157990 |\n",
       "| 60 | -7.122313 | 12.189588 |\n",
       "| 70 | -8.309365 | 14.221186 |\n",
       "| 80 | -9.496417 | 16.252784 |\n",
       "\n"
      ],
      "text/plain": [
       "   Mean of 2.5th percentile Mean of 97.5th percentile\n",
       "20 -2.374104                 4.063196                \n",
       "30 -3.561156                 6.094794                \n",
       "40 -4.748208                 8.126392                \n",
       "50 -5.935260                10.157990                \n",
       "60 -7.122313                12.189588                \n",
       "70 -8.309365                14.221186                \n",
       "80 -9.496417                16.252784                "
      ]
     },
     "metadata": {},
     "output_type": "display_data"
    }
   ],
   "source": [
    "# b) #repeating part a but without treatment\n",
    "ages = c(20, 30, 40, 50, 60, 70, 80)\n",
    "control <- matrix(NA, nrow = iterations, ncol = length(ages))\n",
    "\n",
    "#this for loop changes it\n",
    "for (age in ages) {\n",
    "  x2 <- c(1, age, 0, 1, 1, 0*age) #again, intercept, age, sex, hicon and tint!= no values are inputted but 0*age here suggests no treatment\n",
    "  for (i in 1:iterations) {\n",
    "    control[i, 1 + (age-min(ages))/10] <- sum(x2*sim@coef[i,])\n",
    "  }\n",
    "}\n",
    "#the treatment effect\n",
    "simulated.effect = simulated - control\n",
    "\n",
    "treatment.confidence <- apply(simulated.effect, 2, quantile, probs = c(0.025, 0.975))\n",
    "mean.effect <- apply(simulated.effect, 2, mean)\n",
    "treatment.table <- t(data.frame(treatment.confidence))\n",
    "colnames(treatment.table) <- c(\"Mean of 2.5th percentile\", \"Mean of 97.5th percentile\")\n",
    "rownames(treatment.table) <- ages\n",
    "treatment.table\n",
    "\n"
   ]
  },
  {
   "cell_type": "code",
   "execution_count": 85,
   "metadata": {},
   "outputs": [
    {
     "data": {
      "image/png": "[encoded data removed]",
      "text/plain": [
       "Plot with title \"Treatment effect for females of ages 20-80\""
      ]
     },
     "metadata": {},
     "output_type": "display_data"
    }
   ],
   "source": [
    "#limits changed due to change in table findings\n",
    "plot(x = c(1:100), y = c(1:100), type = \"n\", \n",
    "xlim = c(20,80),\n",
    "ylim = c(-20,20), \n",
    "main = \"Treatment effect for females of ages 20-80\", xlab = \"Age\", \n",
    "ylab = \"CSOA\")\n",
    "for (age in ages) {\n",
    "  segments(\n",
    "x0 = age,\n",
    "y0 = treatment.confidence[1, ((age - min(ages))/10)+1],\n",
    "x1 = age,\n",
    "y1 = treatment.confidence[2, ((age - min(ages))/10)+1],\n",
    "lwd = 2)\n",
    "}"
   ]
  },
  {
   "cell_type": "code",
   "execution_count": 86,
   "metadata": {},
   "outputs": [
    {
     "name": "stderr",
     "output_type": "stream",
     "text": [
      "Warning message:\n",
      "\"package 'Matching' was built under R version 3.6.2\"## \n",
      "##  Matching (Version 4.9-6, Build Date: 2019-04-07)\n",
      "##  See http://sekhon.berkeley.edu/matching for additional documentation.\n",
      "##  Please cite software as:\n",
      "##   Jasjeet S. Sekhon. 2011. ``Multivariate and Propensity Score Matching\n",
      "##   Software with Automated Balance Optimization: The Matching package for R.''\n",
      "##   Journal of Statistical Software, 42(7): 1-52. \n",
      "##\n",
      "\n"
     ]
    },
    {
     "data": {
      "text/html": [
       "<table>\n",
       "<thead><tr><th scope=col>age</th><th scope=col>educ</th><th scope=col>black</th><th scope=col>hisp</th><th scope=col>married</th><th scope=col>nodegr</th><th scope=col>re74</th><th scope=col>re75</th><th scope=col>re78</th><th scope=col>u74</th><th scope=col>u75</th><th scope=col>treat</th></tr></thead>\n",
       "<tbody>\n",
       "\t<tr><td>37      </td><td>11      </td><td>1       </td><td>0       </td><td>1       </td><td>1       </td><td>0       </td><td>0       </td><td> 9930.05</td><td>1       </td><td>1       </td><td>1       </td></tr>\n",
       "\t<tr><td>22      </td><td> 9      </td><td>0       </td><td>1       </td><td>0       </td><td>1       </td><td>0       </td><td>0       </td><td> 3595.89</td><td>1       </td><td>1       </td><td>1       </td></tr>\n",
       "\t<tr><td>30      </td><td>12      </td><td>1       </td><td>0       </td><td>0       </td><td>0       </td><td>0       </td><td>0       </td><td>24909.50</td><td>1       </td><td>1       </td><td>1       </td></tr>\n",
       "\t<tr><td>27      </td><td>11      </td><td>1       </td><td>0       </td><td>0       </td><td>1       </td><td>0       </td><td>0       </td><td> 7506.15</td><td>1       </td><td>1       </td><td>1       </td></tr>\n",
       "\t<tr><td>33      </td><td> 8      </td><td>1       </td><td>0       </td><td>0       </td><td>1       </td><td>0       </td><td>0       </td><td>  289.79</td><td>1       </td><td>1       </td><td>1       </td></tr>\n",
       "\t<tr><td>22      </td><td> 9      </td><td>1       </td><td>0       </td><td>0       </td><td>1       </td><td>0       </td><td>0       </td><td> 4056.49</td><td>1       </td><td>1       </td><td>1       </td></tr>\n",
       "</tbody>\n",
       "</table>\n"
      ],
      "text/latex": [
       "\\begin{tabular}{r|llllllllllll}\n",
       " age & educ & black & hisp & married & nodegr & re74 & re75 & re78 & u74 & u75 & treat\\\\\n",
       "\\hline\n",
       "\t 37       & 11       & 1        & 0        & 1        & 1        & 0        & 0        &  9930.05 & 1        & 1        & 1       \\\\\n",
       "\t 22       &  9       & 0        & 1        & 0        & 1        & 0        & 0        &  3595.89 & 1        & 1        & 1       \\\\\n",
       "\t 30       & 12       & 1        & 0        & 0        & 0        & 0        & 0        & 24909.50 & 1        & 1        & 1       \\\\\n",
       "\t 27       & 11       & 1        & 0        & 0        & 1        & 0        & 0        &  7506.15 & 1        & 1        & 1       \\\\\n",
       "\t 33       &  8       & 1        & 0        & 0        & 1        & 0        & 0        &   289.79 & 1        & 1        & 1       \\\\\n",
       "\t 22       &  9       & 1        & 0        & 0        & 1        & 0        & 0        &  4056.49 & 1        & 1        & 1       \\\\\n",
       "\\end{tabular}\n"
      ],
      "text/markdown": [
       "\n",
       "| age | educ | black | hisp | married | nodegr | re74 | re75 | re78 | u74 | u75 | treat |\n",
       "|---|---|---|---|---|---|---|---|---|---|---|---|\n",
       "| 37       | 11       | 1        | 0        | 1        | 1        | 0        | 0        |  9930.05 | 1        | 1        | 1        |\n",
       "| 22       |  9       | 0        | 1        | 0        | 1        | 0        | 0        |  3595.89 | 1        | 1        | 1        |\n",
       "| 30       | 12       | 1        | 0        | 0        | 0        | 0        | 0        | 24909.50 | 1        | 1        | 1        |\n",
       "| 27       | 11       | 1        | 0        | 0        | 1        | 0        | 0        |  7506.15 | 1        | 1        | 1        |\n",
       "| 33       |  8       | 1        | 0        | 0        | 1        | 0        | 0        |   289.79 | 1        | 1        | 1        |\n",
       "| 22       |  9       | 1        | 0        | 0        | 1        | 0        | 0        |  4056.49 | 1        | 1        | 1        |\n",
       "\n"
      ],
      "text/plain": [
       "  age educ black hisp married nodegr re74 re75 re78     u74 u75 treat\n",
       "1 37  11   1     0    1       1      0    0     9930.05 1   1   1    \n",
       "2 22   9   0     1    0       1      0    0     3595.89 1   1   1    \n",
       "3 30  12   1     0    0       0      0    0    24909.50 1   1   1    \n",
       "4 27  11   1     0    0       1      0    0     7506.15 1   1   1    \n",
       "5 33   8   1     0    0       1      0    0      289.79 1   1   1    \n",
       "6 22   9   1     0    0       1      0    0     4056.49 1   1   1    "
      ]
     },
     "metadata": {},
     "output_type": "display_data"
    },
    {
     "data": {
      "text/plain": [
       "\n",
       "Call:\n",
       "lm(formula = lalonde$re78 ~ lalonde$age, data = lalonde)\n",
       "\n",
       "Residuals:\n",
       "   Min     1Q Median     3Q    Max \n",
       " -6616  -4996  -1579   2817  54867 \n",
       "\n",
       "Coefficients:\n",
       "            Estimate Std. Error t value Pr(>|t|)    \n",
       "(Intercept)  3946.18    1167.07   3.381 0.000785 ***\n",
       "lalonde$age    53.39      44.30   1.205 0.228781    \n",
       "---\n",
       "Signif. codes:  0 '***' 0.001 '**' 0.01 '*' 0.05 '.' 0.1 ' ' 1\n",
       "\n",
       "Residual standard error: 6628 on 443 degrees of freedom\n",
       "Multiple R-squared:  0.003268,\tAdjusted R-squared:  0.001018 \n",
       "F-statistic: 1.452 on 1 and 443 DF,  p-value: 0.2288\n"
      ]
     },
     "metadata": {},
     "output_type": "display_data"
    },
    {
     "data": {
      "text/plain": [
       "\n",
       "Call:\n",
       "lm(formula = lalonde$re78 ~ y.estimate)\n",
       "\n",
       "Residuals:\n",
       "   Min     1Q Median     3Q    Max \n",
       " -6616  -4996  -1579   2817  54867 \n",
       "\n",
       "Coefficients:\n",
       "              Estimate Std. Error t value Pr(>|t|)\n",
       "(Intercept)   -0.09625 4409.64689   0.000    1.000\n",
       "y.estimate     1.00003    0.82978   1.205    0.229\n",
       "\n",
       "Residual standard error: 6628 on 443 degrees of freedom\n",
       "Multiple R-squared:  0.003268,\tAdjusted R-squared:  0.001018 \n",
       "F-statistic: 1.452 on 1 and 443 DF,  p-value: 0.2288\n"
      ]
     },
     "metadata": {},
     "output_type": "display_data"
    },
    {
     "data": {
      "text/html": [
       "0.0032679133994632"
      ],
      "text/latex": [
       "0.0032679133994632"
      ],
      "text/markdown": [
       "0.0032679133994632"
      ],
      "text/plain": [
       "[1] 0.003267913"
      ]
     },
     "metadata": {},
     "output_type": "display_data"
    }
   ],
   "source": [
    "#Q3\n",
    "#libraries\n",
    "library(Matching)\n",
    "data(lalonde)\n",
    "head(lalonde)\n",
    "#linear regression\n",
    "lm1 <- summary(lm(lalonde$re78 ~ lalonde$age, data=lalonde))\n",
    "lm1\n",
    "#for loop which is manually coded to calculate rsquare\n",
    "rsquare <- function(x,y) {\n",
    "    rss <- sum((x - y) ^ 2)  ## residual sum of squares\n",
    "    tss <- sum((x - mean(y)) ^ 2)  ## total sum of squares\n",
    "    return (1 - rss/tss)\n",
    "}\n",
    "#predicted Y's calculated from this\n",
    "y.estimate <- 53.39*lalonde$age + 3946.18\n",
    "#running code for comparison\n",
    "summary(lm(lalonde$re78~y.estimate))\n",
    "rsquare(lalonde$re78,y.estimate)"
   ]
  },
  {
   "cell_type": "code",
   "execution_count": 100,
   "metadata": {},
   "outputs": [
    {
     "data": {
      "text/html": [
       "<table>\n",
       "<thead><tr><th scope=col>year</th><th scope=col>month</th><th scope=col>day</th><th scope=col>studentid</th><th scope=col>groupna</th><th scope=col>treatment</th><th scope=col>caste</th><th scope=col>round1</th><th scope=col>round2</th><th scope=col>class</th><th scope=col>...</th><th scope=col>math3</th><th scope=col>math4</th><th scope=col>hindi1</th><th scope=col>hindi2</th><th scope=col>hindi3</th><th scope=col>mothedu</th><th scope=col>fathedu</th><th scope=col>mothocc</th><th scope=col>fathocc</th><th scope=col>land</th></tr></thead>\n",
       "<tbody>\n",
       "\t<tr><td>2003               </td><td>January            </td><td>first day          </td><td>1                  </td><td>42                 </td><td>Caste Revealed     </td><td>kshatriya          </td><td>4                  </td><td>8                  </td><td>7                  </td><td>...                </td><td>NA                 </td><td>NA                 </td><td>NA                 </td><td>NA                 </td><td>NA                 </td><td>5                  </td><td>10                 </td><td>housewife          </td><td>field              </td><td>3.00000            </td></tr>\n",
       "\t<tr><td>2003               </td><td>January            </td><td>first day          </td><td>2                  </td><td>42                 </td><td>Caste Revealed     </td><td>chamar             </td><td>4                  </td><td>4                  </td><td>6                  </td><td>...                </td><td>NA                 </td><td>NA                 </td><td>NA                 </td><td>NA                 </td><td>NA                 </td><td>0                  </td><td>0                  </td><td>housewife          </td><td>field              </td><td>0.79781            </td></tr>\n",
       "\t<tr><td>2003               </td><td>January            </td><td>first day          </td><td>3                  </td><td>42                 </td><td>Caste Revealed     </td><td>kshatriya          </td><td>1                  </td><td>1                  </td><td>6                  </td><td>...                </td><td>NA                 </td><td>NA                 </td><td>NA                 </td><td>NA                 </td><td>NA                 </td><td>10                 </td><td>8                  </td><td>housewife          </td><td>field              </td><td>1.60000            </td></tr>\n",
       "\t<tr><td>2003               </td><td>January            </td><td>first day          </td><td>4                  </td><td>42                 </td><td>Caste Revealed     </td><td>kshatriya          </td><td>3                  </td><td>3                  </td><td>6                  </td><td>...                </td><td>NA                 </td><td>NA                 </td><td>NA                 </td><td>NA                 </td><td>NA                 </td><td>0                  </td><td>8                  </td><td>housewife          </td><td>field              </td><td>1.83027            </td></tr>\n",
       "\t<tr><td>2003               </td><td>January            </td><td>first day          </td><td>5                  </td><td>42                 </td><td>Caste Revealed     </td><td>chamar             </td><td>5                  </td><td>8                  </td><td>7                  </td><td>...                </td><td>NA                 </td><td>NA                 </td><td>NA                 </td><td>NA                 </td><td>NA                 </td><td>0                  </td><td>0                  </td><td>housewife          </td><td>field+ construction</td><td>0.00000            </td></tr>\n",
       "\t<tr><td>2003               </td><td>January            </td><td>first day          </td><td>6                  </td><td>42                 </td><td>Caste Revealed     </td><td>chamar             </td><td>0                  </td><td>0                  </td><td>6                  </td><td>...                </td><td>NA                 </td><td>NA                 </td><td>NA                 </td><td>NA                 </td><td>NA                 </td><td>6                  </td><td>10                 </td><td>housewife          </td><td>field              </td><td>0.00000            </td></tr>\n",
       "</tbody>\n",
       "</table>\n"
      ],
      "text/latex": [
       "\\begin{tabular}{r|llllllllllllllllllllllllll}\n",
       " year & month & day & studentid & groupna & treatment & caste & round1 & round2 & class & ... & math3 & math4 & hindi1 & hindi2 & hindi3 & mothedu & fathedu & mothocc & fathocc & land\\\\\n",
       "\\hline\n",
       "\t 2003                & January             & first day           & 1                   & 42                  & Caste Revealed      & kshatriya           & 4                   & 8                   & 7                   & ...                 & NA                  & NA                  & NA                  & NA                  & NA                  & 5                   & 10                  & housewife           & field               & 3.00000            \\\\\n",
       "\t 2003                & January             & first day           & 2                   & 42                  & Caste Revealed      & chamar              & 4                   & 4                   & 6                   & ...                 & NA                  & NA                  & NA                  & NA                  & NA                  & 0                   & 0                   & housewife           & field               & 0.79781            \\\\\n",
       "\t 2003                & January             & first day           & 3                   & 42                  & Caste Revealed      & kshatriya           & 1                   & 1                   & 6                   & ...                 & NA                  & NA                  & NA                  & NA                  & NA                  & 10                  & 8                   & housewife           & field               & 1.60000            \\\\\n",
       "\t 2003                & January             & first day           & 4                   & 42                  & Caste Revealed      & kshatriya           & 3                   & 3                   & 6                   & ...                 & NA                  & NA                  & NA                  & NA                  & NA                  & 0                   & 8                   & housewife           & field               & 1.83027            \\\\\n",
       "\t 2003                & January             & first day           & 5                   & 42                  & Caste Revealed      & chamar              & 5                   & 8                   & 7                   & ...                 & NA                  & NA                  & NA                  & NA                  & NA                  & 0                   & 0                   & housewife           & field+ construction & 0.00000            \\\\\n",
       "\t 2003                & January             & first day           & 6                   & 42                  & Caste Revealed      & chamar              & 0                   & 0                   & 6                   & ...                 & NA                  & NA                  & NA                  & NA                  & NA                  & 6                   & 10                  & housewife           & field               & 0.00000            \\\\\n",
       "\\end{tabular}\n"
      ],
      "text/markdown": [
       "\n",
       "| year | month | day | studentid | groupna | treatment | caste | round1 | round2 | class | ... | math3 | math4 | hindi1 | hindi2 | hindi3 | mothedu | fathedu | mothocc | fathocc | land |\n",
       "|---|---|---|---|---|---|---|---|---|---|---|---|---|---|---|---|---|---|---|---|---|\n",
       "| 2003                | January             | first day           | 1                   | 42                  | Caste Revealed      | kshatriya           | 4                   | 8                   | 7                   | ...                 | NA                  | NA                  | NA                  | NA                  | NA                  | 5                   | 10                  | housewife           | field               | 3.00000             |\n",
       "| 2003                | January             | first day           | 2                   | 42                  | Caste Revealed      | chamar              | 4                   | 4                   | 6                   | ...                 | NA                  | NA                  | NA                  | NA                  | NA                  | 0                   | 0                   | housewife           | field               | 0.79781             |\n",
       "| 2003                | January             | first day           | 3                   | 42                  | Caste Revealed      | kshatriya           | 1                   | 1                   | 6                   | ...                 | NA                  | NA                  | NA                  | NA                  | NA                  | 10                  | 8                   | housewife           | field               | 1.60000             |\n",
       "| 2003                | January             | first day           | 4                   | 42                  | Caste Revealed      | kshatriya           | 3                   | 3                   | 6                   | ...                 | NA                  | NA                  | NA                  | NA                  | NA                  | 0                   | 8                   | housewife           | field               | 1.83027             |\n",
       "| 2003                | January             | first day           | 5                   | 42                  | Caste Revealed      | chamar              | 5                   | 8                   | 7                   | ...                 | NA                  | NA                  | NA                  | NA                  | NA                  | 0                   | 0                   | housewife           | field+ construction | 0.00000             |\n",
       "| 2003                | January             | first day           | 6                   | 42                  | Caste Revealed      | chamar              | 0                   | 0                   | 6                   | ...                 | NA                  | NA                  | NA                  | NA                  | NA                  | 6                   | 10                  | housewife           | field               | 0.00000             |\n",
       "\n"
      ],
      "text/plain": [
       "  year month   day       studentid groupna treatment      caste     round1\n",
       "1 2003 January first day 1         42      Caste Revealed kshatriya 4     \n",
       "2 2003 January first day 2         42      Caste Revealed chamar    4     \n",
       "3 2003 January first day 3         42      Caste Revealed kshatriya 1     \n",
       "4 2003 January first day 4         42      Caste Revealed kshatriya 3     \n",
       "5 2003 January first day 5         42      Caste Revealed chamar    5     \n",
       "6 2003 January first day 6         42      Caste Revealed chamar    0     \n",
       "  round2 class ... math3 math4 hindi1 hindi2 hindi3 mothedu fathedu mothocc  \n",
       "1 8      7     ... NA    NA    NA     NA     NA     5       10      housewife\n",
       "2 4      6     ... NA    NA    NA     NA     NA     0       0       housewife\n",
       "3 1      6     ... NA    NA    NA     NA     NA     10      8       housewife\n",
       "4 3      6     ... NA    NA    NA     NA     NA     0       8       housewife\n",
       "5 8      7     ... NA    NA    NA     NA     NA     0       0       housewife\n",
       "6 0      6     ... NA    NA    NA     NA     NA     6       10      housewife\n",
       "  fathocc             land   \n",
       "1 field               3.00000\n",
       "2 field               0.79781\n",
       "3 field               1.60000\n",
       "4 field               1.83027\n",
       "5 field+ construction 0.00000\n",
       "6 field               0.00000"
      ]
     },
     "metadata": {},
     "output_type": "display_data"
    },
    {
     "data": {
      "text/html": [
       "<table>\n",
       "<thead><tr><th></th><th scope=col>Confidence.interval.of.bootstrap</th><th scope=col>Regression.interval</th></tr></thead>\n",
       "<tbody>\n",
       "\t<tr><th scope=row>2.5%</th><td>-0.8461538</td><td>-0.2893112</td></tr>\n",
       "\t<tr><th scope=row>97.5%</th><td> 0.8461538</td><td> 0.6752087</td></tr>\n",
       "</tbody>\n",
       "</table>\n"
      ],
      "text/latex": [
       "\\begin{tabular}{r|ll}\n",
       "  & Confidence.interval.of.bootstrap & Regression.interval\\\\\n",
       "\\hline\n",
       "\t2.5\\% & -0.8461538 & -0.2893112\\\\\n",
       "\t97.5\\% &  0.8461538 &  0.6752087\\\\\n",
       "\\end{tabular}\n"
      ],
      "text/markdown": [
       "\n",
       "| <!--/--> | Confidence.interval.of.bootstrap | Regression.interval |\n",
       "|---|---|---|\n",
       "| 2.5% | -0.8461538 | -0.2893112 |\n",
       "| 97.5% |  0.8461538 |  0.6752087 |\n",
       "\n"
      ],
      "text/plain": [
       "      Confidence.interval.of.bootstrap Regression.interval\n",
       "2.5%  -0.8461538                       -0.2893112         \n",
       "97.5%  0.8461538                        0.6752087         "
      ]
     },
     "metadata": {},
     "output_type": "display_data"
    },
    {
     "data": {
      "image/png": "[encoded data removed]",
      "text/plain": [
       "Plot with title \"95% confidence interval of Bootstrap Histogram\""
      ]
     },
     "metadata": {},
     "output_type": "display_data"
    }
   ],
   "source": [
    "#Q4\n",
    "\n",
    "library(foreign)\n",
    "#Loads necessery data set\n",
    "df = read.dta('C:\\\\Users\\\\abdur\\\\Downloads\\\\mazedata1.dta')\n",
    "# head(df)\n",
    "head(df)\n",
    "\n",
    "#splitting data into treatment and control\n",
    "treatment = subset(df, df$treatment == 'Caste Revealed')\n",
    "control = subset(df, df$treatment != 'Caste Revealed')\n",
    "\n",
    "#storage vector\n",
    "storage = c()\n",
    "\n",
    "iterations = 10000\n",
    "#bootstraps 10000 time with replacement over the treatment and control groups\n",
    "for(i in 1:iterations){\n",
    "    #treatment\n",
    "    d.treat <- df$round1[sample(length(treatment),length(treatment),replace = TRUE)]\n",
    "    mean.treat <- mean(d.treat, na.rm = TRUE)\n",
    "    #control\n",
    "    d.control <- df$round1[sample(length(control), length(control), replace = TRUE)]\n",
    "    mean.control <- mean(d.control, na.rm = TRUE)\n",
    "    storage[i] <- mean.treat - mean.control\n",
    "}\n",
    "\n",
    "#95% confidence interval of bootstrapped values\n",
    "confidence.bootstrap = quantile(storage, probs = c(0.025, 0.975))\n",
    "\n",
    "#regression model and confint\n",
    "regression = lm(round1~treatment, data=df)\n",
    "interval = confint(regression, level = 0.95)[2,]\n",
    "\n",
    "#table\n",
    "table = data.frame('Confidence interval of bootstrap'= confidence.bootstrap, 'Regression interval'= interval)\n",
    "table\n",
    "\n",
    "#histogram\n",
    "hist(storage, main=\"95% confidence interval of Bootstrap Histogram\", xlab= \"Treatment effect\", ylab= \"Count\")\n",
    "abline(v=quantile(storage, c(0.025, 0.975)), col=\"black\") #95% confidence interval of bootstrap\n",
    "abline(v=confint(regression)[2,], col=\"blue\") #95% confidence interval of calculated regression\n",
    "legend(0.2,2000, legend=c(\"bootstrap 95% confidence interval\",\"analytical 95% confidence interval\"),\n",
    "       col=c(\"black\",\"blue\"), lty=1:1 )"
   ]
  },
  {
   "cell_type": "code",
   "execution_count": 35,
   "metadata": {},
   "outputs": [],
   "source": [
    "#Q5\n",
    "foo <- read.csv(url(\"https://tinyurl.com/yx8tqf3k\"))\n",
    "set.seed(12345)\n",
    "test.set.rows <- sample(1:length(foo$age), 2000, replace =\n",
    "FALSE)\n",
    "library(boot)"
   ]
  },
  {
   "cell_type": "code",
   "execution_count": 40,
   "metadata": {
    "scrolled": true
   },
   "outputs": [],
   "source": [
    "#creating test and training sets\n",
    "training = foo[-test.set.rows,]\n",
    "test = foo[test.set.rows,]\n"
   ]
  },
  {
   "cell_type": "code",
   "execution_count": 44,
   "metadata": {},
   "outputs": [
    {
     "data": {
      "text/html": [
       "0.0113744576180754"
      ],
      "text/latex": [
       "0.0113744576180754"
      ],
      "text/markdown": [
       "0.0113744576180754"
      ],
      "text/plain": [
       "[1] 0.01137446"
      ]
     },
     "metadata": {},
     "output_type": "display_data"
    },
    {
     "data": {
      "text/html": [
       "0.0113729924309196"
      ],
      "text/latex": [
       "0.0113729924309196"
      ],
      "text/markdown": [
       "0.0113729924309196"
      ],
      "text/plain": [
       "[1] 0.01137299"
      ]
     },
     "metadata": {},
     "output_type": "display_data"
    }
   ],
   "source": [
    "#Simple Model\n",
    "#K Fold\n",
    "glm.foo <- glm(treat~age, data=training)\n",
    "cv.err <- cv.glm(training, glm.foo, K=10)\n",
    "cv.err$delta[1]\n",
    "#0.0113744576180754\n",
    "\n",
    "#LOOCV Model\n",
    "cv.err.2 <- cv.glm(training,glm.foo)\n",
    "cv.err.2$delta[1]\n",
    "#0.0113729924309196"
   ]
  },
  {
   "cell_type": "code",
   "execution_count": 45,
   "metadata": {},
   "outputs": [
    {
     "data": {
      "text/html": [
       "<table>\n",
       "<thead><tr><th scope=col>treat</th><th scope=col>age</th><th scope=col>education</th><th scope=col>black</th><th scope=col>hispanic</th><th scope=col>married</th><th scope=col>nodegree</th><th scope=col>re74</th><th scope=col>re75</th><th scope=col>re78</th><th scope=col>u74</th><th scope=col>u75</th></tr></thead>\n",
       "<tbody>\n",
       "\t<tr><td>1         </td><td>37        </td><td>11        </td><td>1         </td><td>0         </td><td>1         </td><td>1         </td><td>0         </td><td>0         </td><td> 9930.0459</td><td>TRUE      </td><td>TRUE      </td></tr>\n",
       "\t<tr><td>1         </td><td>22        </td><td> 9        </td><td>0         </td><td>1         </td><td>0         </td><td>1         </td><td>0         </td><td>0         </td><td> 3595.8940</td><td>TRUE      </td><td>TRUE      </td></tr>\n",
       "\t<tr><td>1         </td><td>30        </td><td>12        </td><td>1         </td><td>0         </td><td>0         </td><td>0         </td><td>0         </td><td>0         </td><td>24909.4492</td><td>TRUE      </td><td>TRUE      </td></tr>\n",
       "\t<tr><td>1         </td><td>27        </td><td>11        </td><td>1         </td><td>0         </td><td>0         </td><td>1         </td><td>0         </td><td>0         </td><td> 7506.1460</td><td>TRUE      </td><td>TRUE      </td></tr>\n",
       "\t<tr><td>1         </td><td>33        </td><td> 8        </td><td>1         </td><td>0         </td><td>0         </td><td>1         </td><td>0         </td><td>0         </td><td>  289.7899</td><td>TRUE      </td><td>TRUE      </td></tr>\n",
       "\t<tr><td>1         </td><td>22        </td><td> 9        </td><td>1         </td><td>0         </td><td>0         </td><td>1         </td><td>0         </td><td>0         </td><td> 4056.4939</td><td>TRUE      </td><td>TRUE      </td></tr>\n",
       "</tbody>\n",
       "</table>\n"
      ],
      "text/latex": [
       "\\begin{tabular}{r|llllllllllll}\n",
       " treat & age & education & black & hispanic & married & nodegree & re74 & re75 & re78 & u74 & u75\\\\\n",
       "\\hline\n",
       "\t 1          & 37         & 11         & 1          & 0          & 1          & 1          & 0          & 0          &  9930.0459 & TRUE       & TRUE      \\\\\n",
       "\t 1          & 22         &  9         & 0          & 1          & 0          & 1          & 0          & 0          &  3595.8940 & TRUE       & TRUE      \\\\\n",
       "\t 1          & 30         & 12         & 1          & 0          & 0          & 0          & 0          & 0          & 24909.4492 & TRUE       & TRUE      \\\\\n",
       "\t 1          & 27         & 11         & 1          & 0          & 0          & 1          & 0          & 0          &  7506.1460 & TRUE       & TRUE      \\\\\n",
       "\t 1          & 33         &  8         & 1          & 0          & 0          & 1          & 0          & 0          &   289.7899 & TRUE       & TRUE      \\\\\n",
       "\t 1          & 22         &  9         & 1          & 0          & 0          & 1          & 0          & 0          &  4056.4939 & TRUE       & TRUE      \\\\\n",
       "\\end{tabular}\n"
      ],
      "text/markdown": [
       "\n",
       "| treat | age | education | black | hispanic | married | nodegree | re74 | re75 | re78 | u74 | u75 |\n",
       "|---|---|---|---|---|---|---|---|---|---|---|---|\n",
       "| 1          | 37         | 11         | 1          | 0          | 1          | 1          | 0          | 0          |  9930.0459 | TRUE       | TRUE       |\n",
       "| 1          | 22         |  9         | 0          | 1          | 0          | 1          | 0          | 0          |  3595.8940 | TRUE       | TRUE       |\n",
       "| 1          | 30         | 12         | 1          | 0          | 0          | 0          | 0          | 0          | 24909.4492 | TRUE       | TRUE       |\n",
       "| 1          | 27         | 11         | 1          | 0          | 0          | 1          | 0          | 0          |  7506.1460 | TRUE       | TRUE       |\n",
       "| 1          | 33         |  8         | 1          | 0          | 0          | 1          | 0          | 0          |   289.7899 | TRUE       | TRUE       |\n",
       "| 1          | 22         |  9         | 1          | 0          | 0          | 1          | 0          | 0          |  4056.4939 | TRUE       | TRUE       |\n",
       "\n"
      ],
      "text/plain": [
       "  treat age education black hispanic married nodegree re74 re75 re78       u74 \n",
       "1 1     37  11        1     0        1       1        0    0     9930.0459 TRUE\n",
       "2 1     22   9        0     1        0       1        0    0     3595.8940 TRUE\n",
       "3 1     30  12        1     0        0       0        0    0    24909.4492 TRUE\n",
       "4 1     27  11        1     0        0       1        0    0     7506.1460 TRUE\n",
       "5 1     33   8        1     0        0       1        0    0      289.7899 TRUE\n",
       "6 1     22   9        1     0        0       1        0    0     4056.4939 TRUE\n",
       "  u75 \n",
       "1 TRUE\n",
       "2 TRUE\n",
       "3 TRUE\n",
       "4 TRUE\n",
       "5 TRUE\n",
       "6 TRUE"
      ]
     },
     "metadata": {},
     "output_type": "display_data"
    },
    {
     "data": {
      "text/html": [
       "0.0100038171198922"
      ],
      "text/latex": [
       "0.0100038171198922"
      ],
      "text/markdown": [
       "0.0100038171198922"
      ],
      "text/plain": [
       "[1] 0.01000382"
      ]
     },
     "metadata": {},
     "output_type": "display_data"
    },
    {
     "data": {
      "text/html": [
       "0.0100012703147979"
      ],
      "text/latex": [
       "0.0100012703147979"
      ],
      "text/markdown": [
       "0.0100012703147979"
      ],
      "text/plain": [
       "[1] 0.01000127"
      ]
     },
     "metadata": {},
     "output_type": "display_data"
    }
   ],
   "source": [
    "#Complex Model\n",
    "#K Fold Model\n",
    "head(foo)\n",
    "glm.complex <- glm(treat~.-re78,data=training)\n",
    "cv.err.complex <- cv.glm(training,glm.complex,K=10)\n",
    "cv.err.complex$delta[1]\n",
    "#0.0100038171198922\n",
    "\n",
    "#LOOCV\n",
    "cv.error.complex2 <- cv.glm(training,glm.complex)\n",
    "cv.error.complex2$delta[1]\n",
    "#0.0100012703147979\n"
   ]
  },
  {
   "cell_type": "code",
   "execution_count": 47,
   "metadata": {},
   "outputs": [
    {
     "data": {
      "text/html": [
       "0.0103818193558565"
      ],
      "text/latex": [
       "0.0103818193558565"
      ],
      "text/markdown": [
       "0.0103818193558565"
      ],
      "text/plain": [
       "[1] 0.01038182"
      ]
     },
     "metadata": {},
     "output_type": "display_data"
    },
    {
     "data": {
      "text/html": [
       "0.00912411793918473"
      ],
      "text/latex": [
       "0.00912411793918473"
      ],
      "text/markdown": [
       "0.00912411793918473"
      ],
      "text/plain": [
       "[1] 0.009124118"
      ]
     },
     "metadata": {},
     "output_type": "display_data"
    }
   ],
   "source": [
    "# test MSE from the models\n",
    "simple.test.mse = mean((test$treat - predict.glm(glm.foo,test))^2)\n",
    "complex.test.mse = mean((test$treat - predict.glm(glm.complex,test))^2)\n",
    "\n",
    "simple.test.mse\n",
    "complex.test.mse\n",
    "table = data.frame(\"Simple Models LOOCV and K-Fold\"=)"
   ]
  },
  {
   "cell_type": "code",
   "execution_count": 60,
   "metadata": {},
   "outputs": [
    {
     "data": {
      "text/html": [
       "0.0103818193558565"
      ],
      "text/latex": [
       "0.0103818193558565"
      ],
      "text/markdown": [
       "0.0103818193558565"
      ],
      "text/plain": [
       "[1] 0.01038182"
      ]
     },
     "metadata": {},
     "output_type": "display_data"
    },
    {
     "data": {
      "text/html": [
       "0.00912411793918473"
      ],
      "text/latex": [
       "0.00912411793918473"
      ],
      "text/markdown": [
       "0.00912411793918473"
      ],
      "text/plain": [
       "[1] 0.009124118"
      ]
     },
     "metadata": {},
     "output_type": "display_data"
    },
    {
     "data": {
      "text/html": [
       "<table>\n",
       "<thead><tr><th scope=col>Simple.LOOCV</th><th scope=col>Simple.K.Fold</th><th scope=col>Complex.LOOCV</th><th scope=col>Complex.K.fold</th><th scope=col>Simple.MSE</th><th scope=col>Complex.MSE</th></tr></thead>\n",
       "<tbody>\n",
       "\t<tr><td>0.01137299 </td><td>0.01137446 </td><td>0.01000127 </td><td>0.01000382 </td><td>0.01038182 </td><td>0.009124118</td></tr>\n",
       "</tbody>\n",
       "</table>\n"
      ],
      "text/latex": [
       "\\begin{tabular}{r|llllll}\n",
       " Simple.LOOCV & Simple.K.Fold & Complex.LOOCV & Complex.K.fold & Simple.MSE & Complex.MSE\\\\\n",
       "\\hline\n",
       "\t 0.01137299  & 0.01137446  & 0.01000127  & 0.01000382  & 0.01038182  & 0.009124118\\\\\n",
       "\\end{tabular}\n"
      ],
      "text/markdown": [
       "\n",
       "| Simple.LOOCV | Simple.K.Fold | Complex.LOOCV | Complex.K.fold | Simple.MSE | Complex.MSE |\n",
       "|---|---|---|---|---|---|\n",
       "| 0.01137299  | 0.01137446  | 0.01000127  | 0.01000382  | 0.01038182  | 0.009124118 |\n",
       "\n"
      ],
      "text/plain": [
       "  Simple.LOOCV Simple.K.Fold Complex.LOOCV Complex.K.fold Simple.MSE\n",
       "1 0.01137299   0.01137446    0.01000127    0.01000382     0.01038182\n",
       "  Complex.MSE\n",
       "1 0.009124118"
      ]
     },
     "metadata": {},
     "output_type": "display_data"
    }
   ],
   "source": [
    "# test MSE from the models\n",
    "simple.test.mse = mean((test$treat - predict.glm(glm.foo,test))^2)\n",
    "complex.test.mse = mean((test$treat - predict.glm(glm.complex,test))^2)\n",
    "\n",
    "simple.test.mse\n",
    "complex.test.mse\n",
    "table = data.frame('Simple LOOCV'=cv.err.2$delta[1],'Simple K-Fold'=cv.err$delta[1],'Complex LOOCV'=cv.error.complex2$delta[1],\n",
    "                  'Complex K-fold'=cv.err.complex$delta[1],'Simple MSE'=simple.test.mse,'Complex MSE'=complex.test.mse)\n",
    "table"
   ]
  },
  {
   "cell_type": "code",
   "execution_count": 1,
   "metadata": {},
   "outputs": [
    {
     "data": {
      "image/png": "[encoded data removed]",
      "text/plain": [
       "Plot with title \"Alcohol Consumption - 95% Prediction Intervals\""
      ]
     },
     "metadata": {},
     "output_type": "display_data"
    }
   ],
   "source": [
    "#Q6\n",
    "trt = matrix(NA,nrow=2,ncol=7)\n",
    "ctrl = matrix(NA,nrow=2,ncol=7) \n",
    "\n",
    "trt[,1]=c(0, 2) #18\n",
    "ctrl[,1]=c(3, 10)\n",
    "trt[,2]=c(0, 3) #20\n",
    "ctrl[,2]=c(2, 8)\n",
    "trt[,3]=c(0, 4) #22\n",
    "ctrl[,3]=c(2, 7)\n",
    "trt[,4]=c(1, 3) #24\n",
    "ctrl[,4]=c(2, 6)\n",
    "trt[,5]=c(1, 3) #26\n",
    "ctrl[,5]=c(2, 5)\n",
    "trt[,6]=c(1, 3) #28\n",
    "ctrl[,6]=c(2, 4)\n",
    "trt[,7]=c(1, 2) #30\n",
    "ctrl[,7]=c(1, 3)\n",
    "\n",
    "\n",
    "c1 = rgb(red = 1, green = 0, blue = 0, alpha = 0.5) #trt\n",
    "c2 = rgb(red = 0, green = 0, blue = 1, alpha = 0.5) #ctrl\n",
    "\n",
    "plot(x = c(1:100), y = c(1:100), type = \"n\", xlim = c(17,31), ylim = c(0,11), cex.lab=1.2,\n",
    "     main = \"Alcohol Consumption - 95% Prediction Intervals\", xlab = \"Age\",ylab = \"Drinks per Week\")\n",
    "\n",
    "for (age in seq(from=18,to=30,by=2)) { \n",
    "  segments(x0 = age-0.05, y0 = trt[1, (age-18)/2+1],\n",
    "           x1 = age-0.05, y1 = trt[2, (age-18)/2+1],lwd = 3,col=c1)\n",
    "  \n",
    "  segments(x0 = age+0.05, y0 = ctrl[1, (age-18)/2+1],\n",
    "           x1 = age+0.05, y1 = ctrl[2, (age-18)/2+1],lwd = 3,col=c2)\n",
    "}\n",
    "legend('topright',legend=c('Treatment','Control'),fill=c(c1,c2))\n",
    "mtext(\"https://tinyurl.com/vwxuwop\", side = 1, cex = 0.5, adj = 0, padj = 10)"
   ]
  },
  {
   "cell_type": "code",
   "execution_count": null,
   "metadata": {},
   "outputs": [],
   "source": []
  }
 ],
 "metadata": {
  "kernelspec": {
   "display_name": "R",
   "language": "R",
   "name": "ir"
  },
  "language_info": {
   "codemirror_mode": "r",
   "file_extension": ".r",
   "mimetype": "text/x-r-source",
   "name": "R",
   "pygments_lexer": "r",
   "version": "3.6.1"
  }
 },
 "nbformat": 4,
 "nbformat_minor": 2
}
